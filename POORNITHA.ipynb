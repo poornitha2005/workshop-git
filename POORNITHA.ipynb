{
 "cells": [
  {
   "cell_type": "code",
   "execution_count": 1,
   "id": "9e56dc09",
   "metadata": {},
   "outputs": [
    {
     "name": "stdout",
     "output_type": "stream",
     "text": [
      "enter your name:POORNITHA\n"
     ]
    }
   ],
   "source": [
    "A=input(\"enter your name:\")"
   ]
  },
  {
   "cell_type": "code",
   "execution_count": 7,
   "id": "85299ed6",
   "metadata": {},
   "outputs": [
    {
     "name": "stdout",
     "output_type": "stream",
     "text": [
      "enter a number3\n",
      "false\n",
      "the type of a is <class 'str'>\n",
      "the type of b is <class 'bool'>\n",
      "the type of c is <class 'int'>\n",
      "the type of d is <class 'NoneType'>\n"
     ]
    }
   ],
   "source": [
    "a=\"HI\"\n",
    "b=True\n",
    "c=20\n",
    "d=None\n",
    "e=int(input(\"enter a number\"))\n",
    "if (e==1):\n",
    "    print(\"True\")\n",
    "else:\n",
    "    print(\"false\")\n",
    "print(\"the type of a is\",type(a))\n",
    "print(\"the type of b is\",type(b))\n",
    "print(\"the type of c is\",type(c))\n",
    "print(\"the type of d is\",type(d))\n"
   ]
  },
  {
   "cell_type": "code",
   "execution_count": null,
   "id": "4cdd41c6",
   "metadata": {
    "scrolled": false
   },
   "outputs": [],
   "source": [
    "a=int(input(\"enter the first number\"))\n",
    "b==int(input(\"enter the second number\"))\n",
    "c=input(\"enter the operator\")\n",
    "if c=='+':\n",
    "    print(\"addition of a and b\",a+b)\n",
    "elif c=='-':\n",
    "    print(\"subtraction of a and b\",a-b)\n",
    "elif c=='*':\n",
    "    print(\"multiplication of a and b\",a*b)\n",
    "elif c=='%':\n",
    "    print(\"modulus of a and b\",a%b)\n",
    "else:\n",
    "    result=\"invalid operation\"\n"
   ]
  },
  {
   "cell_type": "markdown",
   "id": "a308967f",
   "metadata": {},
   "source": [
    "a=10\n",
    "b=5\n",
    "print(f\"subtraction of {a} and {b} is {a-b}\")\n",
    "\n",
    "\n"
   ]
  },
  {
   "cell_type": "code",
   "execution_count": 20,
   "id": "72f0797f",
   "metadata": {},
   "outputs": [
    {
     "name": "stdout",
     "output_type": "stream",
     "text": [
      "subtraction of 10 and 5 is 5\n"
     ]
    }
   ],
   "source": [
    "a=10 \n",
    "b=5 \n",
    "print(f\"subtraction of {a} and {b} is {a-b}\")"
   ]
  },
  {
   "cell_type": "code",
   "execution_count": null,
   "id": "77a62c8b",
   "metadata": {},
   "outputs": [],
   "source": []
  }
 ],
 "metadata": {
  "kernelspec": {
   "display_name": "Python 3 (ipykernel)",
   "language": "python",
   "name": "python3"
  },
  "language_info": {
   "codemirror_mode": {
    "name": "ipython",
    "version": 3
   },
   "file_extension": ".py",
   "mimetype": "text/x-python",
   "name": "python",
   "nbconvert_exporter": "python",
   "pygments_lexer": "ipython3",
   "version": "3.9.13"
  }
 },
 "nbformat": 4,
 "nbformat_minor": 5
}
